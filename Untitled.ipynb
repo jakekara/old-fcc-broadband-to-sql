{
 "cells": [
  {
   "cell_type": "code",
   "execution_count": 1,
   "metadata": {
    "collapsed": true
   },
   "outputs": [],
   "source": [
    "import pandas as pd"
   ]
  },
  {
   "cell_type": "code",
   "execution_count": 2,
   "metadata": {
    "collapsed": false
   },
   "outputs": [
    {
     "name": "stderr",
     "output_type": "stream",
     "text": [
      "/usr/local/lib/python2.7/site-packages/IPython/core/interactiveshell.py:2723: DtypeWarning: Columns (5) have mixed types. Specify dtype option on import or set low_memory=False.\n",
      "  interactivity=interactivity, compiler=compiler, result=result)\n"
     ]
    }
   ],
   "source": [
    "df = pd.read_csv(\"data/fbd_us_without_satellite_jun2016_v1.csv\")"
   ]
  },
  {
   "cell_type": "code",
   "execution_count": 3,
   "metadata": {
    "collapsed": false
   },
   "outputs": [
    {
     "data": {
      "text/html": [
       "<div>\n",
       "<table border=\"1\" class=\"dataframe\">\n",
       "  <thead>\n",
       "    <tr style=\"text-align: right;\">\n",
       "      <th></th>\n",
       "      <th>LogRecNo</th>\n",
       "      <th>Provider_Id</th>\n",
       "      <th>FRN</th>\n",
       "      <th>ProviderName</th>\n",
       "      <th>DBAName</th>\n",
       "      <th>HoldingCompanyName</th>\n",
       "      <th>HocoNum</th>\n",
       "      <th>HocoFinal</th>\n",
       "      <th>StateAbbr</th>\n",
       "      <th>BlockCode</th>\n",
       "      <th>TechCode</th>\n",
       "      <th>Consumer</th>\n",
       "      <th>MaxAdDown</th>\n",
       "      <th>MaxAdUp</th>\n",
       "      <th>Business</th>\n",
       "      <th>MaxCIRDown</th>\n",
       "      <th>MaxCIRUp</th>\n",
       "    </tr>\n",
       "  </thead>\n",
       "  <tbody>\n",
       "    <tr>\n",
       "      <th>0</th>\n",
       "      <td>1</td>\n",
       "      <td>20744</td>\n",
       "      <td>20048088</td>\n",
       "      <td>Computer Technologies Group</td>\n",
       "      <td>Mobius Internet, I.T. and Communications</td>\n",
       "      <td>Mobius Internet, I.T. and Communications</td>\n",
       "      <td>340047</td>\n",
       "      <td>Mobius Internet, I.T. and Communications</td>\n",
       "      <td>LA</td>\n",
       "      <td>220330001001000</td>\n",
       "      <td>70</td>\n",
       "      <td>1</td>\n",
       "      <td>50.0</td>\n",
       "      <td>50.0</td>\n",
       "      <td>1</td>\n",
       "      <td>250.0</td>\n",
       "      <td>250.0</td>\n",
       "    </tr>\n",
       "    <tr>\n",
       "      <th>1</th>\n",
       "      <td>2</td>\n",
       "      <td>20744</td>\n",
       "      <td>20048088</td>\n",
       "      <td>Computer Technologies Group</td>\n",
       "      <td>Mobius Internet, I.T. and Communications</td>\n",
       "      <td>Mobius Internet, I.T. and Communications</td>\n",
       "      <td>340047</td>\n",
       "      <td>Mobius Internet, I.T. and Communications</td>\n",
       "      <td>LA</td>\n",
       "      <td>220330001001001</td>\n",
       "      <td>70</td>\n",
       "      <td>1</td>\n",
       "      <td>50.0</td>\n",
       "      <td>50.0</td>\n",
       "      <td>1</td>\n",
       "      <td>250.0</td>\n",
       "      <td>250.0</td>\n",
       "    </tr>\n",
       "    <tr>\n",
       "      <th>2</th>\n",
       "      <td>3</td>\n",
       "      <td>20744</td>\n",
       "      <td>20048088</td>\n",
       "      <td>Computer Technologies Group</td>\n",
       "      <td>Mobius Internet, I.T. and Communications</td>\n",
       "      <td>Mobius Internet, I.T. and Communications</td>\n",
       "      <td>340047</td>\n",
       "      <td>Mobius Internet, I.T. and Communications</td>\n",
       "      <td>LA</td>\n",
       "      <td>220330001001002</td>\n",
       "      <td>70</td>\n",
       "      <td>1</td>\n",
       "      <td>50.0</td>\n",
       "      <td>50.0</td>\n",
       "      <td>1</td>\n",
       "      <td>250.0</td>\n",
       "      <td>250.0</td>\n",
       "    </tr>\n",
       "    <tr>\n",
       "      <th>3</th>\n",
       "      <td>4</td>\n",
       "      <td>20744</td>\n",
       "      <td>20048088</td>\n",
       "      <td>Computer Technologies Group</td>\n",
       "      <td>Mobius Internet, I.T. and Communications</td>\n",
       "      <td>Mobius Internet, I.T. and Communications</td>\n",
       "      <td>340047</td>\n",
       "      <td>Mobius Internet, I.T. and Communications</td>\n",
       "      <td>LA</td>\n",
       "      <td>220330001001003</td>\n",
       "      <td>70</td>\n",
       "      <td>1</td>\n",
       "      <td>50.0</td>\n",
       "      <td>50.0</td>\n",
       "      <td>1</td>\n",
       "      <td>250.0</td>\n",
       "      <td>250.0</td>\n",
       "    </tr>\n",
       "    <tr>\n",
       "      <th>4</th>\n",
       "      <td>5</td>\n",
       "      <td>20744</td>\n",
       "      <td>20048088</td>\n",
       "      <td>Computer Technologies Group</td>\n",
       "      <td>Mobius Internet, I.T. and Communications</td>\n",
       "      <td>Mobius Internet, I.T. and Communications</td>\n",
       "      <td>340047</td>\n",
       "      <td>Mobius Internet, I.T. and Communications</td>\n",
       "      <td>LA</td>\n",
       "      <td>220330001001004</td>\n",
       "      <td>70</td>\n",
       "      <td>1</td>\n",
       "      <td>50.0</td>\n",
       "      <td>50.0</td>\n",
       "      <td>1</td>\n",
       "      <td>250.0</td>\n",
       "      <td>250.0</td>\n",
       "    </tr>\n",
       "  </tbody>\n",
       "</table>\n",
       "</div>"
      ],
      "text/plain": [
       "   LogRecNo  Provider_Id       FRN                 ProviderName  \\\n",
       "0         1        20744  20048088  Computer Technologies Group   \n",
       "1         2        20744  20048088  Computer Technologies Group   \n",
       "2         3        20744  20048088  Computer Technologies Group   \n",
       "3         4        20744  20048088  Computer Technologies Group   \n",
       "4         5        20744  20048088  Computer Technologies Group   \n",
       "\n",
       "                                    DBAName  \\\n",
       "0  Mobius Internet, I.T. and Communications   \n",
       "1  Mobius Internet, I.T. and Communications   \n",
       "2  Mobius Internet, I.T. and Communications   \n",
       "3  Mobius Internet, I.T. and Communications   \n",
       "4  Mobius Internet, I.T. and Communications   \n",
       "\n",
       "                         HoldingCompanyName  HocoNum  \\\n",
       "0  Mobius Internet, I.T. and Communications   340047   \n",
       "1  Mobius Internet, I.T. and Communications   340047   \n",
       "2  Mobius Internet, I.T. and Communications   340047   \n",
       "3  Mobius Internet, I.T. and Communications   340047   \n",
       "4  Mobius Internet, I.T. and Communications   340047   \n",
       "\n",
       "                                  HocoFinal StateAbbr        BlockCode  \\\n",
       "0  Mobius Internet, I.T. and Communications        LA  220330001001000   \n",
       "1  Mobius Internet, I.T. and Communications        LA  220330001001001   \n",
       "2  Mobius Internet, I.T. and Communications        LA  220330001001002   \n",
       "3  Mobius Internet, I.T. and Communications        LA  220330001001003   \n",
       "4  Mobius Internet, I.T. and Communications        LA  220330001001004   \n",
       "\n",
       "   TechCode  Consumer  MaxAdDown  MaxAdUp  Business  MaxCIRDown  MaxCIRUp  \n",
       "0        70         1       50.0     50.0         1       250.0     250.0  \n",
       "1        70         1       50.0     50.0         1       250.0     250.0  \n",
       "2        70         1       50.0     50.0         1       250.0     250.0  \n",
       "3        70         1       50.0     50.0         1       250.0     250.0  \n",
       "4        70         1       50.0     50.0         1       250.0     250.0  "
      ]
     },
     "execution_count": 3,
     "metadata": {},
     "output_type": "execute_result"
    }
   ],
   "source": [
    "df.head()"
   ]
  },
  {
   "cell_type": "code",
   "execution_count": 4,
   "metadata": {
    "collapsed": false
   },
   "outputs": [
    {
     "name": "stdout",
     "output_type": "stream",
     "text": [
      "LogRecNo\n",
      "Provider_Id\n",
      "FRN\n",
      "ProviderName\n",
      "DBAName\n",
      "HoldingCompanyName\n",
      "HocoNum\n",
      "HocoFinal\n",
      "StateAbbr\n",
      "BlockCode\n",
      "TechCode\n",
      "Consumer\n",
      "MaxAdDown\n",
      "MaxAdUp\n",
      "Business\n",
      "MaxCIRDown\n",
      "MaxCIRUp\n"
     ]
    }
   ],
   "source": [
    "for c in df.columns:\n",
    "    print c"
   ]
  },
  {
   "cell_type": "code",
   "execution_count": 7,
   "metadata": {
    "collapsed": false
   },
   "outputs": [],
   "source": [
    "df.to_csv(\"data/fbd_us_without_satellite_jun2016_v1.psv\",sep=\"|\",index=False)"
   ]
  },
  {
   "cell_type": "code",
   "execution_count": null,
   "metadata": {
    "collapsed": true
   },
   "outputs": [],
   "source": []
  }
 ],
 "metadata": {
  "kernelspec": {
   "display_name": "Python 2",
   "language": "python",
   "name": "python2"
  },
  "language_info": {
   "codemirror_mode": {
    "name": "ipython",
    "version": 2
   },
   "file_extension": ".py",
   "mimetype": "text/x-python",
   "name": "python",
   "nbconvert_exporter": "python",
   "pygments_lexer": "ipython2",
   "version": "2.7.13"
  }
 },
 "nbformat": 4,
 "nbformat_minor": 0
}
